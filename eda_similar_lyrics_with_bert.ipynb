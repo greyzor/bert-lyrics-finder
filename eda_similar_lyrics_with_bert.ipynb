{
 "cells": [
  {
   "cell_type": "code",
   "execution_count": 1,
   "metadata": {},
   "outputs": [],
   "source": [
    "import pandas as pd\n",
    "import random\n",
    "import json\n",
    "from pandas.io.json import json_normalize #package for flattening json in pandas df"
   ]
  },
  {
   "cell_type": "markdown",
   "metadata": {},
   "source": [
    "## Using Gutenberg Poetry dataset"
   ]
  },
  {
   "cell_type": "code",
   "execution_count": null,
   "metadata": {},
   "outputs": [],
   "source": [
    "!head -n5 './data/gutenberg-poetry-v001.ndjson'"
   ]
  },
  {
   "cell_type": "code",
   "execution_count": null,
   "metadata": {
    "scrolled": true
   },
   "outputs": [],
   "source": [
    "p = 0.005  # 0.5% of the lines\n",
    "# keep the header, then take only 1% of lines\n",
    "# if random from [0,1] interval is greater than 0.01 the row will be skipped\n",
    "df = pd.read_csv(\n",
    "    './data/gutenberg-poetry-v001.ndjson',\n",
    "    names=['text'], \n",
    "    skiprows=lambda i: i>0 and random.random() > p,\n",
    "    sep='\\n',\n",
    "#    columns=['text']\n",
    ")\n",
    "\n",
    "df = json_normalize(df['text'].apply(json.loads))\n",
    "text_col = 's'\n",
    "print(df.shape)"
   ]
  },
  {
   "cell_type": "markdown",
   "metadata": {},
   "source": [
    "## Using Lyricsfreak.com dataset (from kaggle, under CreativeCommons)"
   ]
  },
  {
   "cell_type": "code",
   "execution_count": 3,
   "metadata": {
    "scrolled": true
   },
   "outputs": [
    {
     "name": "stdout",
     "output_type": "stream",
     "text": [
      "artist,song,link,text\r\n",
      "ABBA,Ahe's My Kind Of Girl,/a/abba/ahes+my+kind+of+girl_20598417.html,\"Look at her face, it's a wonderful face  \r\n",
      "And it means something special to me  \r\n",
      "Look at the way that she smiles when she sees me  \r\n",
      "How lucky can one fellow be?  \r\n",
      "  \r\n",
      "She's just my kind of girl, she makes me feel fine  \r\n",
      "Who could ever believe that she could be mine?  \r\n",
      "She's just my kind of girl, without her I'm blue  \r\n",
      "And if she ever leaves me what could I do, what could I do?  \r\n"
     ]
    }
   ],
   "source": [
    "!head -n10 ./data/songdata.csv"
   ]
  },
  {
   "cell_type": "code",
   "execution_count": 4,
   "metadata": {},
   "outputs": [
    {
     "name": "stdout",
     "output_type": "stream",
     "text": [
      "(2900, 4)\n"
     ]
    }
   ],
   "source": [
    "p = 0.05  # 5% of the lines\n",
    "df = pd.read_csv(\n",
    "    './data/songdata.csv',\n",
    "    skiprows=lambda i: i>0 and random.random() > p,\n",
    ")\n",
    "\n",
    "df['text'] = df['text'].str.replace('\\n', '')\n",
    "text_col = 'text'\n",
    "print(df.shape)"
   ]
  },
  {
   "cell_type": "code",
   "execution_count": 5,
   "metadata": {},
   "outputs": [
    {
     "data": {
      "text/html": [
       "<div>\n",
       "<style scoped>\n",
       "    .dataframe tbody tr th:only-of-type {\n",
       "        vertical-align: middle;\n",
       "    }\n",
       "\n",
       "    .dataframe tbody tr th {\n",
       "        vertical-align: top;\n",
       "    }\n",
       "\n",
       "    .dataframe thead th {\n",
       "        text-align: right;\n",
       "    }\n",
       "</style>\n",
       "<table border=\"1\" class=\"dataframe\">\n",
       "  <thead>\n",
       "    <tr style=\"text-align: right;\">\n",
       "      <th></th>\n",
       "      <th>artist</th>\n",
       "      <th>song</th>\n",
       "      <th>link</th>\n",
       "      <th>text</th>\n",
       "    </tr>\n",
       "  </thead>\n",
       "  <tbody>\n",
       "    <tr>\n",
       "      <th>0</th>\n",
       "      <td>ABBA</td>\n",
       "      <td>Andante, Andante</td>\n",
       "      <td>/a/abba/andante+andante_20002708.html</td>\n",
       "      <td>Take it easy with me, please  Touch me gently ...</td>\n",
       "    </tr>\n",
       "    <tr>\n",
       "      <th>1</th>\n",
       "      <td>ABBA</td>\n",
       "      <td>I Let The Music Speak</td>\n",
       "      <td>/a/abba/i+let+the+music+speak_20003002.html</td>\n",
       "      <td>I'm hearing images, I'm seeing songs  No poet ...</td>\n",
       "    </tr>\n",
       "    <tr>\n",
       "      <th>2</th>\n",
       "      <td>ABBA</td>\n",
       "      <td>Like An Angel Passing Through My Room</td>\n",
       "      <td>/a/abba/like+an+angel+passing+through+my+room_...</td>\n",
       "      <td>Long awaited darkness falls  Casting shadows o...</td>\n",
       "    </tr>\n",
       "    <tr>\n",
       "      <th>3</th>\n",
       "      <td>ABBA</td>\n",
       "      <td>My Love, My Life</td>\n",
       "      <td>/a/abba/my+love+my+life_20002559.html</td>\n",
       "      <td>I've seen it on your face  Tells me more than ...</td>\n",
       "    </tr>\n",
       "    <tr>\n",
       "      <th>4</th>\n",
       "      <td>ABBA</td>\n",
       "      <td>Put On Your White Sombrero</td>\n",
       "      <td>/a/abba/put+on+your+white+sombrero_20003024.html</td>\n",
       "      <td>Put on your white sombrero  Saddle your horse ...</td>\n",
       "    </tr>\n",
       "  </tbody>\n",
       "</table>\n",
       "</div>"
      ],
      "text/plain": [
       "  artist                                   song  \\\n",
       "0   ABBA                       Andante, Andante   \n",
       "1   ABBA                  I Let The Music Speak   \n",
       "2   ABBA  Like An Angel Passing Through My Room   \n",
       "3   ABBA                       My Love, My Life   \n",
       "4   ABBA             Put On Your White Sombrero   \n",
       "\n",
       "                                                link  \\\n",
       "0              /a/abba/andante+andante_20002708.html   \n",
       "1        /a/abba/i+let+the+music+speak_20003002.html   \n",
       "2  /a/abba/like+an+angel+passing+through+my+room_...   \n",
       "3              /a/abba/my+love+my+life_20002559.html   \n",
       "4   /a/abba/put+on+your+white+sombrero_20003024.html   \n",
       "\n",
       "                                                text  \n",
       "0  Take it easy with me, please  Touch me gently ...  \n",
       "1  I'm hearing images, I'm seeing songs  No poet ...  \n",
       "2  Long awaited darkness falls  Casting shadows o...  \n",
       "3  I've seen it on your face  Tells me more than ...  \n",
       "4  Put on your white sombrero  Saddle your horse ...  "
      ]
     },
     "execution_count": 5,
     "metadata": {},
     "output_type": "execute_result"
    }
   ],
   "source": [
    "df.head()"
   ]
  },
  {
   "cell_type": "code",
   "execution_count": 9,
   "metadata": {
    "scrolled": true
   },
   "outputs": [],
   "source": [
    "from bert_serving.client import BertClient\n",
    "\n",
    "bc = BertClient(ignore_all_checks=False)"
   ]
  },
  {
   "cell_type": "code",
   "execution_count": 10,
   "metadata": {},
   "outputs": [
    {
     "name": "stderr",
     "output_type": "stream",
     "text": [
      "/usr/local/lib/python3.7/dist-packages/bert_serving/client/__init__.py:299: UserWarning: some of your sentences have more tokens than \"max_seq_len=25\" set on the server, as consequence you may get less-accurate or truncated embeddings.\n",
      "here is what you can do:\n",
      "- disable the length-check by create a new \"BertClient(check_length=False)\" when you do not want to display this warning\n",
      "- or, start a new server with a larger \"max_seq_len\"\n",
      "  '- or, start a new server with a larger \"max_seq_len\"' % self.length_limit)\n"
     ]
    },
    {
     "name": "stdout",
     "output_type": "stream",
     "text": [
      "CPU times: user 31.4 ms, sys: 19.1 ms, total: 50.5 ms\n",
      "Wall time: 3min 58s\n"
     ]
    }
   ],
   "source": [
    "%%time\n",
    "encodings = bc.encode(df[text_col].values.tolist())"
   ]
  },
  {
   "cell_type": "code",
   "execution_count": 15,
   "metadata": {},
   "outputs": [
    {
     "data": {
      "text/plain": [
       "(2900, 768)"
      ]
     },
     "execution_count": 15,
     "metadata": {},
     "output_type": "execute_result"
    }
   ],
   "source": [
    "encodings.shape"
   ]
  },
  {
   "cell_type": "code",
   "execution_count": 12,
   "metadata": {},
   "outputs": [],
   "source": [
    "#entry = 'The sky is blue and warm'\n",
    "#entry = 'Nothing matters more !'\n",
    "#entry = 'Shadow of my dream'\n",
    "#entry = 'How are you doing ?'\n",
    "#entry = 'Have a good day !'\n",
    "#entry = 'Walk into the moon'\n",
    "#entry = 'Come on stranger'\n",
    "#entry = 'A world full of fantasy'\n",
    "entry = 'Stars are falling'"
   ]
  },
  {
   "cell_type": "code",
   "execution_count": 17,
   "metadata": {
    "scrolled": true
   },
   "outputs": [],
   "source": [
    "from sklearn.metrics.pairwise import cosine_similarity\n",
    "import numpy as np\n",
    "\n",
    "enc_test = bc.encode([entry])\n",
    "\n",
    "scores = cosine_similarity(enc_test, encodings)\n",
    "\n",
    "top = 7\n",
    "idxs = np.argsort(scores)[0][-top:]\n",
    "idxs = np.flip(idxs)"
   ]
  },
  {
   "cell_type": "code",
   "execution_count": 18,
   "metadata": {},
   "outputs": [
    {
     "name": "stdout",
     "output_type": "stream",
     "text": [
      "[0.8085018  0.8004481  0.79822963 0.79820204 0.79628587 0.7938714\n",
      " 0.7882048 ]\n"
     ]
    },
    {
     "data": {
      "text/html": [
       "<div>\n",
       "<style scoped>\n",
       "    .dataframe tbody tr th:only-of-type {\n",
       "        vertical-align: middle;\n",
       "    }\n",
       "\n",
       "    .dataframe tbody tr th {\n",
       "        vertical-align: top;\n",
       "    }\n",
       "\n",
       "    .dataframe thead th {\n",
       "        text-align: right;\n",
       "    }\n",
       "</style>\n",
       "<table border=\"1\" class=\"dataframe\">\n",
       "  <thead>\n",
       "    <tr style=\"text-align: right;\">\n",
       "      <th></th>\n",
       "      <th>index</th>\n",
       "      <th>artist</th>\n",
       "      <th>song</th>\n",
       "      <th>link</th>\n",
       "      <th>text</th>\n",
       "      <th>score</th>\n",
       "    </tr>\n",
       "  </thead>\n",
       "  <tbody>\n",
       "    <tr>\n",
       "      <th>0</th>\n",
       "      <td>1277</td>\n",
       "      <td>Beautiful South</td>\n",
       "      <td>Dream A Little Dream</td>\n",
       "      <td>/b/beautiful+south/dream+a+little+dream_100271...</td>\n",
       "      <td>Stars shining bright above you  Night breezes ...</td>\n",
       "      <td>0.808502</td>\n",
       "    </tr>\n",
       "    <tr>\n",
       "      <th>1</th>\n",
       "      <td>62</td>\n",
       "      <td>Bette Midler</td>\n",
       "      <td>Mele Kalikimaka</td>\n",
       "      <td>/b/bette+midler/mele+kalikimaka_20529217.html</td>\n",
       "      <td>jingle bells upon a steel guitar  thru the clo...</td>\n",
       "      <td>0.800448</td>\n",
       "    </tr>\n",
       "    <tr>\n",
       "      <th>2</th>\n",
       "      <td>1037</td>\n",
       "      <td>U2</td>\n",
       "      <td>Promenade</td>\n",
       "      <td>/u/u2/promenade_20141533.html</td>\n",
       "      <td>Earth sky sea and rain  Is she coming back aga...</td>\n",
       "      <td>0.798230</td>\n",
       "    </tr>\n",
       "    <tr>\n",
       "      <th>3</th>\n",
       "      <td>2365</td>\n",
       "      <td>Orphaned Land</td>\n",
       "      <td>The Beloved's Cry</td>\n",
       "      <td>/o/orphaned+land/the+beloveds+cry_20157154.html</td>\n",
       "      <td>My heart flies on her wings  Now I'm crying, t...</td>\n",
       "      <td>0.798202</td>\n",
       "    </tr>\n",
       "    <tr>\n",
       "      <th>4</th>\n",
       "      <td>1411</td>\n",
       "      <td>Celine Dion</td>\n",
       "      <td>If Only You Could See Me Now</td>\n",
       "      <td>/c/celine+dion/if+only+you+could+see+me+now_20...</td>\n",
       "      <td>(Walter Afanasieff, John Bettis)    Here they ...</td>\n",
       "      <td>0.796286</td>\n",
       "    </tr>\n",
       "    <tr>\n",
       "      <th>5</th>\n",
       "      <td>1603</td>\n",
       "      <td>Electric Light Orchestra</td>\n",
       "      <td>New World Rising</td>\n",
       "      <td>/e/electric+light+orchestra/new+world+rising_2...</td>\n",
       "      <td>New dawn, smiling down the old blue world  Can...</td>\n",
       "      <td>0.793871</td>\n",
       "    </tr>\n",
       "    <tr>\n",
       "      <th>6</th>\n",
       "      <td>276</td>\n",
       "      <td>Emmylou Harris</td>\n",
       "      <td>I Still Miss Someone</td>\n",
       "      <td>/e/emmylou+harris/i+still+miss+someone_2005004...</td>\n",
       "      <td>At my door the leaves are falling  The cold wi...</td>\n",
       "      <td>0.788205</td>\n",
       "    </tr>\n",
       "  </tbody>\n",
       "</table>\n",
       "</div>"
      ],
      "text/plain": [
       "   index                    artist                          song  \\\n",
       "0   1277           Beautiful South          Dream A Little Dream   \n",
       "1     62              Bette Midler               Mele Kalikimaka   \n",
       "2   1037                        U2                     Promenade   \n",
       "3   2365             Orphaned Land             The Beloved's Cry   \n",
       "4   1411               Celine Dion  If Only You Could See Me Now   \n",
       "5   1603  Electric Light Orchestra              New World Rising   \n",
       "6    276            Emmylou Harris          I Still Miss Someone   \n",
       "\n",
       "                                                link  \\\n",
       "0  /b/beautiful+south/dream+a+little+dream_100271...   \n",
       "1      /b/bette+midler/mele+kalikimaka_20529217.html   \n",
       "2                      /u/u2/promenade_20141533.html   \n",
       "3    /o/orphaned+land/the+beloveds+cry_20157154.html   \n",
       "4  /c/celine+dion/if+only+you+could+see+me+now_20...   \n",
       "5  /e/electric+light+orchestra/new+world+rising_2...   \n",
       "6  /e/emmylou+harris/i+still+miss+someone_2005004...   \n",
       "\n",
       "                                                text     score  \n",
       "0  Stars shining bright above you  Night breezes ...  0.808502  \n",
       "1  jingle bells upon a steel guitar  thru the clo...  0.800448  \n",
       "2  Earth sky sea and rain  Is she coming back aga...  0.798230  \n",
       "3  My heart flies on her wings  Now I'm crying, t...  0.798202  \n",
       "4  (Walter Afanasieff, John Bettis)    Here they ...  0.796286  \n",
       "5  New dawn, smiling down the old blue world  Can...  0.793871  \n",
       "6  At my door the leaves are falling  The cold wi...  0.788205  "
      ]
     },
     "execution_count": 18,
     "metadata": {},
     "output_type": "execute_result"
    }
   ],
   "source": [
    "## Show similar lyrics/songs\n",
    "print(scores[0][idxs])\n",
    "\n",
    "df_tmp = pd.concat([df.iloc[idxs].reset_index(), pd.DataFrame(scores[0][idxs], columns=['score'])], axis=1)\n",
    "df_tmp.head(20)"
   ]
  },
  {
   "cell_type": "code",
   "execution_count": null,
   "metadata": {},
   "outputs": [],
   "source": []
  }
 ],
 "metadata": {
  "kernelspec": {
   "display_name": "Python 3",
   "language": "python",
   "name": "python3"
  },
  "language_info": {
   "codemirror_mode": {
    "name": "ipython",
    "version": 3
   },
   "file_extension": ".py",
   "mimetype": "text/x-python",
   "name": "python",
   "nbconvert_exporter": "python",
   "pygments_lexer": "ipython3",
   "version": "3.7.3"
  }
 },
 "nbformat": 4,
 "nbformat_minor": 2
}
